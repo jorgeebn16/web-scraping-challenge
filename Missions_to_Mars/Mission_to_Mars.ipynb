{
 "cells": [
  {
   "cell_type": "code",
   "execution_count": 1,
   "metadata": {},
   "outputs": [],
   "source": [
    "# Setting UP\n",
    "# Import BeautifulSoup\n",
    "from bs4 import BeautifulSoup\n",
    "from splinter import Browser\n",
    "import requests\n",
    "import pymongo"
   ]
  },
  {
   "cell_type": "code",
   "execution_count": 2,
   "metadata": {},
   "outputs": [],
   "source": [
    "# Set the executable path and initialize the chrome browser \n",
    "# ----------------------MAC-----------------------------------------\n",
    "executable_path = {'executable_path': '/usr/local/bin/chromedriver'}\n",
    "browser = Browser('chrome', **executable_path)\n",
    "\n",
    "# ======================Windows=====================================\n",
    "#executable_path = {'executable_path': './chromedriver.exe'}\n",
    "#browser = Browser('chrome', **executable_path)"
   ]
  },
  {
   "cell_type": "code",
   "execution_count": 3,
   "metadata": {},
   "outputs": [],
   "source": [
    "# Visit the mars nasa new site\n",
    "url = 'https://mars.nasa.gov/news/'\n",
    "browser.visit(url)"
   ]
  },
  {
   "cell_type": "code",
   "execution_count": 4,
   "metadata": {},
   "outputs": [],
   "source": [
    "html = browser.html\n",
    "news_soup = BeautifulSoup(html, 'html.parser')\n",
    "\n",
    "# print(news_soup)\n",
    "\n",
    "# slide element everythin in the \n",
    "# <ul class=\"item_list\">\n",
    "#     <li class=\"slide\">\n",
    "#     ....\n",
    "# </ul>\n",
    "slide_element = news_soup.select_one('ul.item_list li.slide')"
   ]
  },
  {
   "cell_type": "code",
   "execution_count": 5,
   "metadata": {},
   "outputs": [
    {
     "data": {
      "text/plain": [
       "<div class=\"content_title\"><a href=\"/news/8545/nasas-mars-2020-heads-into-the-test-chamber/\" target=\"_self\">NASA's Mars 2020 Heads Into the Test Chamber</a></div>"
      ]
     },
     "execution_count": 5,
     "metadata": {},
     "output_type": "execute_result"
    }
   ],
   "source": [
    "slide_element.find(\"div\", class_=\"content_title\")"
   ]
  },
  {
   "cell_type": "code",
   "execution_count": 6,
   "metadata": {},
   "outputs": [
    {
     "data": {
      "text/plain": [
       "\"NASA's Mars 2020 Heads Into the Test Chamber\""
      ]
     },
     "execution_count": 6,
     "metadata": {},
     "output_type": "execute_result"
    }
   ],
   "source": [
    "# Use the parent element to find the first a tag and save it as news_title\n",
    "news_title = slide_element.find('div', class_=\"content_title\").get_text()\n",
    "news_title"
   ]
  },
  {
   "cell_type": "code",
   "execution_count": 7,
   "metadata": {},
   "outputs": [
    {
     "data": {
      "text/plain": [
       "'In this time-lapse video taken at JPL, engineers move the Mars 2020 rover into a large vacuum chamber for testing in Mars-like environmental conditions.'"
      ]
     },
     "execution_count": 7,
     "metadata": {},
     "output_type": "execute_result"
    }
   ],
   "source": [
    "news_paragraph = slide_element.find('div', class_=\"article_teaser_body\").get_text()\n",
    "news_paragraph"
   ]
  },
  {
   "cell_type": "code",
   "execution_count": 8,
   "metadata": {},
   "outputs": [],
   "source": [
    "# JPL SPACE IMAGES FEATURED IMAGE"
   ]
  },
  {
   "cell_type": "code",
   "execution_count": 9,
   "metadata": {},
   "outputs": [],
   "source": [
    "executable_path = {'executable_path': '/usr/local/bin/chromedriver'}\n",
    "browser = Browser('chrome', **executable_path)\n",
    "url = 'https://www.jpl.nasa.gov/spaceimages/?search=&category=Mars'\n",
    "browser.visit(url)"
   ]
  },
  {
   "cell_type": "code",
   "execution_count": 10,
   "metadata": {},
   "outputs": [],
   "source": [
    "# Asking splinter to go to the site hit a button with class name full_image\n",
    "# <button class=\"full_image\">Full Image</button>\n",
    "full_image_button = browser.find_by_id('full_image')\n",
    "full_image_button.click()"
   ]
  },
  {
   "cell_type": "code",
   "execution_count": 11,
   "metadata": {},
   "outputs": [],
   "source": [
    "# Find the more info button and click that\n",
    "browser.is_element_present_by_text('more info', wait_time=1)\n",
    "more_info_element = browser.find_link_by_partial_text('more info')\n",
    "more_info_element.click()"
   ]
  },
  {
   "cell_type": "code",
   "execution_count": 12,
   "metadata": {},
   "outputs": [],
   "source": [
    "# Parse the results html with soup\n",
    "html = browser.html\n",
    "image_soup = BeautifulSoup(html, 'html.parser')"
   ]
  },
  {
   "cell_type": "code",
   "execution_count": 13,
   "metadata": {},
   "outputs": [
    {
     "data": {
      "text/plain": [
       "'/spaceimages/images/largesize/PIA00046_hires.jpg'"
      ]
     },
     "execution_count": 13,
     "metadata": {},
     "output_type": "execute_result"
    }
   ],
   "source": [
    "img_url = image_soup.select_one('figure.lede a img').get('src')\n",
    "img_url"
   ]
  },
  {
   "cell_type": "code",
   "execution_count": 14,
   "metadata": {},
   "outputs": [
    {
     "data": {
      "text/plain": [
       "'https://www.jpl.nasa.gov/spaceimages/images/largesize/PIA00046_hires.jpg'"
      ]
     },
     "execution_count": 14,
     "metadata": {},
     "output_type": "execute_result"
    }
   ],
   "source": [
    "# Use the base url to create an absolute url\n",
    "img_url = f'https://www.jpl.nasa.gov{img_url}'\n",
    "img_url"
   ]
  },
  {
   "cell_type": "code",
   "execution_count": 15,
   "metadata": {},
   "outputs": [],
   "source": [
    "# MARS WEATHER"
   ]
  },
  {
   "cell_type": "code",
   "execution_count": 16,
   "metadata": {},
   "outputs": [],
   "source": [
    "executable_path = {'executable_path': '/usr/local/bin/chromedriver'}\n",
    "browser = Browser('chrome', **executable_path)\n",
    "url = 'https://twitter.com/marswxreport?lang=en'\n",
    "browser.visit(url)"
   ]
  },
  {
   "cell_type": "code",
   "execution_count": 17,
   "metadata": {},
   "outputs": [],
   "source": [
    "html = browser.html\n",
    "weather_soup = BeautifulSoup(html, 'html.parser')"
   ]
  },
  {
   "cell_type": "code",
   "execution_count": 18,
   "metadata": {},
   "outputs": [
    {
     "name": "stdout",
     "output_type": "stream",
     "text": [
      "<div class=\"tweet js-stream-tweet js-actionable-tweet js-profile-popup-actionable dismissible-content original-tweet js-original-tweet\" data-conversation-id=\"1192590350323474434\" data-disclosure-type=\"\" data-follows-you=\"false\" data-item-id=\"1192590350323474434\" data-name=\"Mars Weather\" data-permalink-path=\"/MarsWxReport/status/1192590350323474434\" data-reply-to-users-json='[{\"id_str\":\"786939553\",\"screen_name\":\"MarsWxReport\",\"name\":\"Mars Weather\",\"emojified_name\":{\"text\":\"Mars Weather\",\"emojified_text_as_html\":\"Mars Weather\"}}]' data-screen-name=\"MarsWxReport\" data-tweet-id=\"1192590350323474434\" data-tweet-nonce=\"1192590350323474434-b1a6458a-e1c7-4a3d-b5f6-d339bd9f5872\" data-tweet-stat-initialized=\"true\" data-user-id=\"786939553\" data-you-block=\"false\" data-you-follow=\"false\">\n",
      "<div class=\"context\">\n",
      "</div>\n",
      "<div class=\"content\">\n",
      "<div class=\"stream-item-header\">\n",
      "<a class=\"account-group js-account-group js-action-profile js-user-profile-link js-nav\" data-user-id=\"786939553\" href=\"/MarsWxReport\">\n",
      "<img alt=\"\" class=\"avatar js-action-profile-avatar\" src=\"https://pbs.twimg.com/profile_images/2552209293/220px-Mars_atmosphere_bigger.jpg\"/>\n",
      "<span class=\"FullNameGroup\">\n",
      "<strong class=\"fullname show-popup-with-id u-textTruncate\" data-aria-label-part=\"\">Mars Weather</strong><span>‏</span><span class=\"UserBadges\"></span><span class=\"UserNameBreak\"> </span></span><span class=\"username u-dir u-textTruncate\" data-aria-label-part=\"\" dir=\"ltr\">@<b>MarsWxReport</b></span></a>\n",
      "<small class=\"time\">\n",
      "<a class=\"tweet-timestamp js-permalink js-nav js-tooltip\" data-conversation-id=\"1192590350323474434\" href=\"/MarsWxReport/status/1192590350323474434\" title=\"3:51 PM - 7 Nov 2019\"><span aria-hidden=\"true\" class=\"_timestamp js-short-timestamp js-relative-timestamp\" data-long-form=\"true\" data-time=\"1573170671\" data-time-ms=\"1573170671000\">2h</span><span class=\"u-hiddenVisually\" data-aria-label-part=\"last\">2 hours ago</span></a>\n",
      "</small>\n",
      "<div class=\"ProfileTweet-action ProfileTweet-action--more js-more-ProfileTweet-actions\">\n",
      "<div class=\"dropdown\">\n",
      "<button aria-haspopup=\"true\" class=\"ProfileTweet-actionButton u-textUserColorHover dropdown-toggle js-dropdown-toggle\" type=\"button\">\n",
      "<div class=\"IconContainer js-tooltip\" title=\"More\">\n",
      "<span class=\"Icon Icon--caretDownLight Icon--small\"></span>\n",
      "<span class=\"u-hiddenVisually\">More</span>\n",
      "</div>\n",
      "</button>\n",
      "<div class=\"dropdown-menu is-autoCentered\">\n",
      "<div class=\"dropdown-caret\">\n",
      "<div class=\"caret-outer\"></div>\n",
      "<div class=\"caret-inner\"></div>\n",
      "</div>\n",
      "<ul>\n",
      "<li class=\"copy-link-to-tweet js-actionCopyLinkToTweet\">\n",
      "<button class=\"dropdown-link\" type=\"button\">Copy link to Tweet</button>\n",
      "</li>\n",
      "<li class=\"embed-link js-actionEmbedTweet\" data-nav=\"embed_tweet\">\n",
      "<button class=\"dropdown-link\" type=\"button\">Embed Tweet</button>\n",
      "</li>\n",
      "</ul>\n",
      "</div>\n",
      "</div>\n",
      "</div>\n",
      "</div>\n",
      "<div class=\"js-tweet-text-container\">\n",
      "<p class=\"TweetTextSize TweetTextSize--normal js-tweet-text tweet-text\" data-aria-label-part=\"0\" lang=\"en\">InSight sol 335 (2019-11-05) low -100.6ºC (-149.1ºF) high -24.3ºC (-11.8ºF)\n",
      "winds from the SSE at 4.9 m/s (10.9 mph) gusting to 19.9 m/s (44.5 mph)\n",
      "pressure at 6.90 hPa</p>\n",
      "</div>\n",
      "<div class=\"stream-item-footer\">\n",
      "<div class=\"ProfileTweet-actionCountList u-hiddenVisually\">\n",
      "<span class=\"ProfileTweet-action--reply u-hiddenVisually\">\n",
      "<span aria-hidden=\"true\" class=\"ProfileTweet-actionCount\" data-tweet-stat-count=\"0\">\n",
      "<span class=\"ProfileTweet-actionCountForAria\" id=\"profile-tweet-action-reply-count-aria-1192590350323474434\">0 replies</span>\n",
      "</span>\n",
      "</span>\n",
      "<span class=\"ProfileTweet-action--retweet u-hiddenVisually\">\n",
      "<span class=\"ProfileTweet-actionCount\" data-tweet-stat-count=\"6\">\n",
      "<span class=\"ProfileTweet-actionCountForAria\" data-aria-label-part=\"\" id=\"profile-tweet-action-retweet-count-aria-1192590350323474434\">6 retweets</span>\n",
      "</span>\n",
      "</span>\n",
      "<span class=\"ProfileTweet-action--favorite u-hiddenVisually\">\n",
      "<span class=\"ProfileTweet-actionCount\" data-tweet-stat-count=\"6\">\n",
      "<span class=\"ProfileTweet-actionCountForAria\" data-aria-label-part=\"\" id=\"profile-tweet-action-favorite-count-aria-1192590350323474434\">6 likes</span>\n",
      "</span>\n",
      "</span>\n",
      "</div>\n",
      "<div aria-label=\"Tweet actions\" class=\"ProfileTweet-actionList js-actions\" role=\"group\">\n",
      "<div class=\"ProfileTweet-action ProfileTweet-action--reply\">\n",
      "<button aria-describedby=\"profile-tweet-action-reply-count-aria-1192590350323474434\" class=\"ProfileTweet-actionButton js-actionButton js-actionReply\" data-modal=\"ProfileTweet-reply\" type=\"button\">\n",
      "<div class=\"IconContainer js-tooltip\" title=\"Reply\">\n",
      "<span class=\"Icon Icon--medium Icon--reply\"></span>\n",
      "<span class=\"u-hiddenVisually\">Reply</span>\n",
      "</div>\n",
      "<span class=\"ProfileTweet-actionCount ProfileTweet-actionCount--isZero\">\n",
      "<span aria-hidden=\"true\" class=\"ProfileTweet-actionCountForPresentation\"></span>\n",
      "</span>\n",
      "</button>\n",
      "</div>\n",
      "<div class=\"ProfileTweet-action ProfileTweet-action--retweet js-toggleState js-toggleRt\">\n",
      "<button aria-describedby=\"profile-tweet-action-retweet-count-aria-1192590350323474434\" class=\"ProfileTweet-actionButton js-actionButton js-actionRetweet\" data-modal=\"ProfileTweet-retweet\" type=\"button\">\n",
      "<div class=\"IconContainer js-tooltip\" title=\"Retweet\">\n",
      "<span class=\"Icon Icon--medium Icon--retweet\"></span>\n",
      "<span class=\"u-hiddenVisually\">Retweet</span>\n",
      "</div>\n",
      "<span class=\"ProfileTweet-actionCount\">\n",
      "<span aria-hidden=\"true\" class=\"ProfileTweet-actionCountForPresentation\">6</span>\n",
      "</span>\n",
      "</button><button class=\"ProfileTweet-actionButtonUndo js-actionButton js-actionRetweet\" data-modal=\"ProfileTweet-retweet\" type=\"button\">\n",
      "<div class=\"IconContainer js-tooltip\" title=\"Undo retweet\">\n",
      "<span class=\"Icon Icon--medium Icon--retweet\"></span>\n",
      "<span class=\"u-hiddenVisually\">Retweeted</span>\n",
      "</div>\n",
      "<span class=\"ProfileTweet-actionCount\">\n",
      "<span aria-hidden=\"true\" class=\"ProfileTweet-actionCountForPresentation\">6</span>\n",
      "</span>\n",
      "</button>\n",
      "</div>\n",
      "<div class=\"ProfileTweet-action ProfileTweet-action--favorite js-toggleState\">\n",
      "<button aria-describedby=\"profile-tweet-action-favorite-count-aria-1192590350323474434\" class=\"ProfileTweet-actionButton js-actionButton js-actionFavorite\" type=\"button\">\n",
      "<div class=\"IconContainer js-tooltip\" title=\"Like\">\n",
      "<span class=\"Icon Icon--heart Icon--medium\" role=\"presentation\"></span>\n",
      "<div class=\"HeartAnimation\"></div>\n",
      "<span class=\"u-hiddenVisually\">Like</span>\n",
      "</div>\n",
      "<span class=\"ProfileTweet-actionCount\">\n",
      "<span aria-hidden=\"true\" class=\"ProfileTweet-actionCountForPresentation\">6</span>\n",
      "</span>\n",
      "</button><button class=\"ProfileTweet-actionButtonUndo ProfileTweet-action--unfavorite u-linkClean js-actionButton js-actionFavorite\" type=\"button\">\n",
      "<div class=\"IconContainer js-tooltip\" title=\"Undo like\">\n",
      "<span class=\"Icon Icon--heart Icon--medium\" role=\"presentation\"></span>\n",
      "<div class=\"HeartAnimation\"></div>\n",
      "<span class=\"u-hiddenVisually\">Liked</span>\n",
      "</div>\n",
      "<span class=\"ProfileTweet-actionCount\">\n",
      "<span aria-hidden=\"true\" class=\"ProfileTweet-actionCountForPresentation\">6</span>\n",
      "</span>\n",
      "</button>\n",
      "</div>\n",
      "</div>\n",
      "</div>\n",
      "</div>\n",
      "</div>\n"
     ]
    }
   ],
   "source": [
    "# First find a tweet with the data-name `Mars Weather`\n",
    "mars_weather_tweet = weather_soup.find('div', \n",
    "                                       attrs={\n",
    "                                           \"class\": \"tweet\", \n",
    "                                            \"data-name\": \"Mars Weather\"\n",
    "                                        })\n",
    "print(mars_weather_tweet)"
   ]
  },
  {
   "cell_type": "code",
   "execution_count": 19,
   "metadata": {},
   "outputs": [
    {
     "data": {
      "text/plain": [
       "'InSight sol 335 (2019-11-05) low -100.6ºC (-149.1ºF) high -24.3ºC (-11.8ºF)\\nwinds from the SSE at 4.9 m/s (10.9 mph) gusting to 19.9 m/s (44.5 mph)\\npressure at 6.90 hPa'"
      ]
     },
     "execution_count": 19,
     "metadata": {},
     "output_type": "execute_result"
    }
   ],
   "source": [
    "# Next search within the tweet for p tag containing the tweet text\n",
    "mars_weather = mars_weather_tweet.find('p', 'tweet-text').get_text()\n",
    "mars_weather"
   ]
  },
  {
   "cell_type": "code",
   "execution_count": 20,
   "metadata": {},
   "outputs": [],
   "source": [
    "url = 'https://astrogeology.usgs.gov/search/results?q=hemisphere+enhanced&k1=target&v1=Mars'\n",
    "browser.visit(url)"
   ]
  },
  {
   "cell_type": "code",
   "execution_count": 21,
   "metadata": {},
   "outputs": [],
   "source": [
    "hemisphere_image_urls = []\n",
    "\n",
    "# First get a list og all the hemisphers\n",
    "links = browser.find_by_css('a.product-item h3')\n",
    "for item in range(len(links)):\n",
    "    hemisphere = {}\n",
    "    \n",
    "    # We have to find the element on each loop to avoid a stale element exception\n",
    "    browser.find_by_css('a.product-item h3')[item].click()\n",
    "    \n",
    "    # Next we find the Sample Image anchor tage and extract the href\n",
    "    sample_element = browser.find_link_by_text('Sample').first\n",
    "    hemisphere['img_url'] = sample_element['href']\n",
    "    \n",
    "    \n",
    "    # Get Hemispher title \n",
    "    hemisphere['title'] = browser.find_by_css('h2.title').text\n",
    "    \n",
    "    #Append hemispher object to list\n",
    "    hemisphere_image_urls.append(hemisphere)\n",
    "    \n",
    "    # Finally, we navigate backwards\n",
    "    browser.back()"
   ]
  },
  {
   "cell_type": "code",
   "execution_count": 22,
   "metadata": {},
   "outputs": [
    {
     "data": {
      "text/plain": [
       "[{'img_url': 'http://astropedia.astrogeology.usgs.gov/download/Mars/Viking/cerberus_enhanced.tif/full.jpg',\n",
       "  'title': 'Cerberus Hemisphere Enhanced'},\n",
       " {'img_url': 'http://astropedia.astrogeology.usgs.gov/download/Mars/Viking/schiaparelli_enhanced.tif/full.jpg',\n",
       "  'title': 'Schiaparelli Hemisphere Enhanced'},\n",
       " {'img_url': 'http://astropedia.astrogeology.usgs.gov/download/Mars/Viking/syrtis_major_enhanced.tif/full.jpg',\n",
       "  'title': 'Syrtis Major Hemisphere Enhanced'},\n",
       " {'img_url': 'http://astropedia.astrogeology.usgs.gov/download/Mars/Viking/valles_marineris_enhanced.tif/full.jpg',\n",
       "  'title': 'Valles Marineris Hemisphere Enhanced'}]"
      ]
     },
     "execution_count": 22,
     "metadata": {},
     "output_type": "execute_result"
    }
   ],
   "source": [
    "hemisphere_image_urls"
   ]
  },
  {
   "cell_type": "code",
   "execution_count": 23,
   "metadata": {},
   "outputs": [],
   "source": [
    "# MARS FACTS"
   ]
  },
  {
   "cell_type": "code",
   "execution_count": 24,
   "metadata": {},
   "outputs": [
    {
     "name": "stdout",
     "output_type": "stream",
     "text": [
      "                      0                              1\n",
      "0  Equatorial Diameter:                       6,792 km\n",
      "1       Polar Diameter:                       6,752 km\n",
      "2                 Mass:  6.39 × 10^23 kg (0.11 Earths)\n",
      "3                Moons:            2 (Phobos & Deimos)\n",
      "4       Orbit Distance:       227,943,824 km (1.38 AU)\n",
      "5         Orbit Period:           687 days (1.9 years)\n",
      "6  Surface Temperature:                   -87 to -5 °C\n",
      "7         First Record:              2nd millennium BC\n",
      "8          Recorded By:           Egyptian astronomers\n"
     ]
    },
    {
     "data": {
      "text/html": [
       "<div>\n",
       "<style scoped>\n",
       "    .dataframe tbody tr th:only-of-type {\n",
       "        vertical-align: middle;\n",
       "    }\n",
       "\n",
       "    .dataframe tbody tr th {\n",
       "        vertical-align: top;\n",
       "    }\n",
       "\n",
       "    .dataframe thead th {\n",
       "        text-align: right;\n",
       "    }\n",
       "</style>\n",
       "<table border=\"1\" class=\"dataframe\">\n",
       "  <thead>\n",
       "    <tr style=\"text-align: right;\">\n",
       "      <th></th>\n",
       "      <th>value</th>\n",
       "    </tr>\n",
       "    <tr>\n",
       "      <th>description</th>\n",
       "      <th></th>\n",
       "    </tr>\n",
       "  </thead>\n",
       "  <tbody>\n",
       "    <tr>\n",
       "      <th>Equatorial Diameter:</th>\n",
       "      <td>6,792 km</td>\n",
       "    </tr>\n",
       "    <tr>\n",
       "      <th>Polar Diameter:</th>\n",
       "      <td>6,752 km</td>\n",
       "    </tr>\n",
       "    <tr>\n",
       "      <th>Mass:</th>\n",
       "      <td>6.39 × 10^23 kg (0.11 Earths)</td>\n",
       "    </tr>\n",
       "    <tr>\n",
       "      <th>Moons:</th>\n",
       "      <td>2 (Phobos &amp; Deimos)</td>\n",
       "    </tr>\n",
       "    <tr>\n",
       "      <th>Orbit Distance:</th>\n",
       "      <td>227,943,824 km (1.38 AU)</td>\n",
       "    </tr>\n",
       "    <tr>\n",
       "      <th>Orbit Period:</th>\n",
       "      <td>687 days (1.9 years)</td>\n",
       "    </tr>\n",
       "    <tr>\n",
       "      <th>Surface Temperature:</th>\n",
       "      <td>-87 to -5 °C</td>\n",
       "    </tr>\n",
       "    <tr>\n",
       "      <th>First Record:</th>\n",
       "      <td>2nd millennium BC</td>\n",
       "    </tr>\n",
       "    <tr>\n",
       "      <th>Recorded By:</th>\n",
       "      <td>Egyptian astronomers</td>\n",
       "    </tr>\n",
       "  </tbody>\n",
       "</table>\n",
       "</div>"
      ],
      "text/plain": [
       "                                              value\n",
       "description                                        \n",
       "Equatorial Diameter:                       6,792 km\n",
       "Polar Diameter:                            6,752 km\n",
       "Mass:                 6.39 × 10^23 kg (0.11 Earths)\n",
       "Moons:                          2 (Phobos & Deimos)\n",
       "Orbit Distance:            227,943,824 km (1.38 AU)\n",
       "Orbit Period:                  687 days (1.9 years)\n",
       "Surface Temperature:                   -87 to -5 °C\n",
       "First Record:                     2nd millennium BC\n",
       "Recorded By:                   Egyptian astronomers"
      ]
     },
     "execution_count": 24,
     "metadata": {},
     "output_type": "execute_result"
    }
   ],
   "source": [
    "import pandas as pd\n",
    "df = pd.read_html('https://space-facts.com/mars/')[0]\n",
    "print(df)\n",
    "df.columns=['description', 'value']\n",
    "df.set_index('description', inplace=True)\n",
    "df"
   ]
  },
  {
   "cell_type": "code",
   "execution_count": 25,
   "metadata": {},
   "outputs": [
    {
     "data": {
      "text/plain": [
       "'<table border=\"1\" class=\"dataframe\">\\n  <thead>\\n    <tr style=\"text-align: right;\">\\n      <th></th>\\n      <th>value</th>\\n    </tr>\\n    <tr>\\n      <th>description</th>\\n      <th></th>\\n    </tr>\\n  </thead>\\n  <tbody>\\n    <tr>\\n      <th>Equatorial Diameter:</th>\\n      <td>6,792 km</td>\\n    </tr>\\n    <tr>\\n      <th>Polar Diameter:</th>\\n      <td>6,752 km</td>\\n    </tr>\\n    <tr>\\n      <th>Mass:</th>\\n      <td>6.39 × 10^23 kg (0.11 Earths)</td>\\n    </tr>\\n    <tr>\\n      <th>Moons:</th>\\n      <td>2 (Phobos &amp; Deimos)</td>\\n    </tr>\\n    <tr>\\n      <th>Orbit Distance:</th>\\n      <td>227,943,824 km (1.38 AU)</td>\\n    </tr>\\n    <tr>\\n      <th>Orbit Period:</th>\\n      <td>687 days (1.9 years)</td>\\n    </tr>\\n    <tr>\\n      <th>Surface Temperature:</th>\\n      <td>-87 to -5 °C</td>\\n    </tr>\\n    <tr>\\n      <th>First Record:</th>\\n      <td>2nd millennium BC</td>\\n    </tr>\\n    <tr>\\n      <th>Recorded By:</th>\\n      <td>Egyptian astronomers</td>\\n    </tr>\\n  </tbody>\\n</table>'"
      ]
     },
     "execution_count": 25,
     "metadata": {},
     "output_type": "execute_result"
    }
   ],
   "source": [
    "df.to_html()"
   ]
  },
  {
   "cell_type": "code",
   "execution_count": 26,
   "metadata": {},
   "outputs": [],
   "source": [
    "#browser.quit()"
   ]
  },
  {
   "cell_type": "code",
   "execution_count": null,
   "metadata": {},
   "outputs": [],
   "source": []
  }
 ],
 "metadata": {
  "kernelspec": {
   "display_name": "Python 3",
   "language": "python",
   "name": "python3"
  },
  "language_info": {
   "codemirror_mode": {
    "name": "ipython",
    "version": 3
   },
   "file_extension": ".py",
   "mimetype": "text/x-python",
   "name": "python",
   "nbconvert_exporter": "python",
   "pygments_lexer": "ipython3",
   "version": "3.7.3"
  }
 },
 "nbformat": 4,
 "nbformat_minor": 2
}
